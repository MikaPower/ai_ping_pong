{
 "nbformat_minor": 2,
 "cells": [
  {
   "metadata": {
    "_uuid": "1823966fdc4d7515054b3b4cc01e08309171405a",
    "_cell_guid": "3e39a15a-222b-4ea3-b951-d2203a112c96"
   },
   "outputs": [],
   "source": [
    "This notebook is the second in the series from [Run or Walk project](https://github.com/vmalyi/run-or-walk/blob/master/README). \n",
    "\n",
    "In this notebook, multi-layer neural network will be trained and evaluated based on data from [Run or Walk Reduced dataset](https://www.kaggle.com/vmalyi/run-or-walk-reduced). Note that this *Run or Walk Final* dataset uses only the subset of data from the original [Run or Walk dataset](https://www.kaggle.com/vmalyi/run-or-walk).\n",
    "\n",
    "See [Run or Walk Dataset Analysis and Visualization](https://www.kaggle.com/vmalyi/run-or-walk-data-analysis-and-visualization) notebook first in order to get first impression about the dataset used here."
   ],
   "cell_type": "markdown",
   "execution_count": null
  },
  {
   "metadata": {
    "_uuid": "1a1bed6a0f1dcd5f85b58fd5522445c1a7376317",
    "_cell_guid": "04409dba-d548-4e79-af78-a69a4be9ca8d"
   },
   "outputs": [],
   "source": [
    "## 1. Manage imports"
   ],
   "cell_type": "markdown",
   "execution_count": null
  },
  {
   "metadata": {
    "_uuid": "24060e68c821d0690fd0132a18707055d31399ee",
    "trusted": false,
    "_cell_guid": "a0f2d7a0-a438-4344-8e2d-43b11fc9413a",
    "_execution_state": "idle"
   },
   "outputs": [],
   "source": [
    "import os\n",
    "from datetime import datetime\n",
    "import keras\n",
    "import numpy\n",
    "import pandas as pd\n",
    "import shutil\n",
    "\n",
    "from keras.models import Sequential\n",
    "from keras.layers import Dense\n",
    "from keras.wrappers.scikit_learn import KerasClassifier\n",
    "from keras.utils import np_utils\n",
    "from keras.callbacks import Callback\n",
    "from keras.callbacks import EarlyStopping\n",
    "\n",
    "from sklearn.model_selection import train_test_split\n",
    "from sklearn.model_selection import GridSearchCV\n",
    "from sklearn.preprocessing import LabelEncoder\n",
    "from sklearn.model_selection import KFold\n",
    "from sklearn.model_selection import cross_val_score\n",
    "from sklearn.pipeline import Pipeline"
   ],
   "cell_type": "code",
   "execution_count": 1
  },
  {
   "metadata": {
    "_uuid": "bb0ca020beaeaae61668060c025078652e0b15b3",
    "_cell_guid": "c1b820a4-70a1-4337-90fe-b5308712c76a"
   },
   "outputs": [],
   "source": [
    "## 2. Load Dataset"
   ],
   "cell_type": "markdown",
   "execution_count": null
  },
  {
   "metadata": {
    "_uuid": "23d66424c7c5524b58040d4c3432701776eb5bc2",
    "trusted": false,
    "_cell_guid": "e0ee9be7-cbd3-40de-95e3-553d8c0a22dc",
    "_execution_state": "idle"
   },
   "outputs": [],
   "source": [
    "df = pd.read_csv('final_df_accX_only.csv')\n",
    "#df = pd.read_csv('accel_x_final_dataset.csv')\n",
    "\n",
    "dataset = df.values\n",
    "\n",
    "X = dataset[:,0:46].astype(float) # sensor data\n",
    "Y = dataset[:,46].astype(int) # labels\n",
    "#X = dataset[:,0:12].astype(float) # sensor data\n",
    "#Y = dataset[:,12].astype(int) # labels"
   ],
   "cell_type": "code",
   "execution_count": 2
  },
  {
   "metadata": {
    "_uuid": "4d27418002790b0ebd5969cf4b52b941c1d55d61",
    "_cell_guid": "9dddfbdb-f9e1-473f-ad5d-a8d0764d2c02"
   },
   "outputs": [],
   "source": [
    "## 3. Define Neural Network Model"
   ],
   "cell_type": "markdown",
   "execution_count": null
  },
  {
   "metadata": {
    "_uuid": "5495de6c8d631625f29ddee9e236bb7a3bd55761",
    "_cell_guid": "2ea61642-0d17-4ba6-bcc8-b73967f4d3fc"
   },
   "outputs": [],
   "source": [
    "Multi-layer neural network with 3 hidden layers 15 units each, all with *relu* activation function. \n",
    "\n",
    "Input layer consists of 12 units. Output layer consits of 2 units, representing *walk* and *run* activities predicted by the model."
   ],
   "cell_type": "markdown",
   "execution_count": null
  },
  {
   "metadata": {
    "_uuid": "5cdc7d6c89b51f4e278e49ced42f92cb4f8a9420",
    "trusted": false,
    "_cell_guid": "b19d065d-b030-439c-a754-1bfa9e5e8e90",
    "_execution_state": "idle"
   },
   "outputs": [],
   "source": [
    "def create_model():\n",
    "    # Define model\n",
    "    global model\n",
    "    model = Sequential()\n",
    "    model.add(Dense(15, input_dim=46, activation='relu'))\n",
    "    #model.add(Dense(15, input_dim=12, activation='relu'))\n",
    "    model.add(Dense(15, activation='relu'))\n",
    "    model.add(Dense(15, activation='relu'))\n",
    "    model.add(Dense(5, activation='softmax'))\n",
    "\n",
    "    # Compile model\n",
    "    model.compile(loss='categorical_crossentropy', optimizer='adam', metrics=['accuracy'])\n",
    "    return model"
   ],
   "cell_type": "code",
   "execution_count": 3
  },
  {
   "metadata": {
    "_uuid": "6487ac0aa8178e71fd6a998b19302cb4a29b1a2d",
    "_cell_guid": "a4a0efaa-739e-4591-abf7-df0b97fa1f4a"
   },
   "outputs": [],
   "source": [
    "## 4. Configure model callbacks including early stopping routine"
   ],
   "cell_type": "markdown",
   "execution_count": null
  },
  {
   "metadata": {
    "_uuid": "943acf96740916155115cb75581bc3090a711133",
    "trusted": false,
    "_cell_guid": "5d74ef99-c1d3-460b-a656-f80edcbf845c",
    "_execution_state": "idle"
   },
   "outputs": [],
   "source": [
    "class LossHistory(Callback):\n",
    "    def on_train_begin(self, logs={}):\n",
    "        self.losses = []\n",
    "\n",
    "    def on_batch_end(self, batch, logs={}):\n",
    "        self.losses.append(logs.get('loss'))\n",
    "        \n",
    "loss_history = LossHistory()\n",
    "early_stopping = EarlyStopping(monitor='val_accuracy', patience=20)\n",
    "\n",
    "logdir=\"logs/fit/\" + datetime.now().strftime(\"%Y%m%d-%H%M%S\")\n",
    "tensorboard_callback = keras.callbacks.TensorBoard(log_dir=logdir)"
   ],
   "cell_type": "code",
   "execution_count": 4
  },
  {
   "metadata": {
    "_uuid": "9412eb0db8f1dbdf0c879f9f15b3b02e6c6b9f2d",
    "_cell_guid": "577f172f-eaa6-441d-9040-ad0df11460b0"
   },
   "outputs": [],
   "source": [
    "## 5. Assemble classifier and train it"
   ],
   "cell_type": "markdown",
   "execution_count": null
  },
  {
   "metadata": {
    "_uuid": "f7e869624004d0e82b20bc58c0a70a7cf09e4673",
    "trusted": false,
    "scrolled": false,
    "_cell_guid": "0ebb9df8-69df-448e-909e-74fed4576a4e",
    "_execution_state": "idle"
   },
   "outputs": [
    {
     "name": "stdout",
     "output_type": "stream",
     "text": [
      "WARNING:tensorflow:Callback method `on_train_batch_end` is slow compared to the batch time (batch time: 0.0010s vs `on_train_batch_end` time: 0.0078s). Check your callbacks.\n"
     ]
    }
   ],
   "source": [
    "from keras.utils.np_utils import to_categorical\n",
    "\n",
    "estimator = KerasClassifier(create_model, epochs=200, batch_size=100, verbose=False)\n",
    "\n",
    "X_train, X_test, Y_train, Y_test = train_test_split(X, Y, test_size=0.33, random_state=5)\n",
    "Y_test = to_categorical(Y_test)\n",
    "\n",
    "results = estimator.fit(X_train, Y_train, callbacks=[loss_history, early_stopping,tensorboard_callback], validation_data=(X_test, Y_test))"
   ],
   "cell_type": "code",
   "execution_count": 5
  },
  {
   "metadata": {
    "_uuid": "1ae1008ac55d43b8f06b66a254f4d5301b38ce5c",
    "_cell_guid": "453746f4-3da5-433c-be27-d8bd98ed8790"
   },
   "outputs": [],
   "source": [
    "## 6. Perform 10-fold cross-validation on validation data"
   ],
   "cell_type": "markdown",
   "execution_count": null
  },
  {
   "metadata": {
    "_uuid": "00eb8f0473e1c25e6c8e885a03a0abff7a0c8f98",
    "trusted": false,
    "_cell_guid": "f54fec71-8ae7-4bca-bcbe-a0ed190d6048",
    "_execution_state": "idle"
   },
   "outputs": [
    {
     "name": "stdout",
     "output_type": "stream",
     "text": [
      "WARNING:tensorflow:5 out of the last 2399 calls to <function Model.make_test_function.<locals>.test_function at 0x7fc8feddc8b0> triggered tf.function retracing. Tracing is expensive and the excessive number of tracings could be due to (1) creating @tf.function repeatedly in a loop, (2) passing tensors with different shapes, (3) passing Python objects instead of tensors. For (1), please define your @tf.function outside of the loop. For (2), @tf.function has experimental_relax_shapes=True option that relaxes argument shapes that can avoid unnecessary retracing. For (3), please refer to https://www.tensorflow.org/guide/function#controlling_retracing and https://www.tensorflow.org/api_docs/python/tf/function for  more details.\n",
      "WARNING:tensorflow:6 out of the last 2401 calls to <function Model.make_test_function.<locals>.test_function at 0x7fc8fe8b81f0> triggered tf.function retracing. Tracing is expensive and the excessive number of tracings could be due to (1) creating @tf.function repeatedly in a loop, (2) passing tensors with different shapes, (3) passing Python objects instead of tensors. For (1), please define your @tf.function outside of the loop. For (2), @tf.function has experimental_relax_shapes=True option that relaxes argument shapes that can avoid unnecessary retracing. For (3), please refer to https://www.tensorflow.org/guide/function#controlling_retracing and https://www.tensorflow.org/api_docs/python/tf/function for  more details.\n",
      "Baseline on test data: 80.43% (4.47%)\n"
     ]
    }
   ],
   "source": [
    "kfold = KFold(n_splits=10, shuffle=True, random_state=5)\n",
    "cv_results = cross_val_score(estimator, X_test, Y_test, cv=kfold)\n",
    "print(\"Baseline on test data: %.2f%% (%.2f%%)\" % (cv_results.mean()*100, cv_results.std()*100))"
   ],
   "cell_type": "code",
   "execution_count": 6
  },
  {
   "metadata": {
    "_uuid": "5b68580e2e0adbef49e17f4635bca06244852366",
    "_cell_guid": "cc7c20ca-26fb-4acb-9684-ff83f0d4b117"
   },
   "outputs": [],
   "source": [
    "## 7. Plot accuracy for train and validation data"
   ],
   "cell_type": "markdown",
   "execution_count": null
  },
  {
   "metadata": {
    "_uuid": "4b4a1d8507655460c4f487bc823c68bd8fe3ba7f",
    "trusted": false,
    "_cell_guid": "7434c620-e169-4f97-9d5a-d5cd354046a5",
    "_execution_state": "idle"
   },
   "outputs": [
    {
     "data": {
      "text/plain": "<Figure size 1440x720 with 1 Axes>",
      "image/png": "[encoded data removed]"
     },
     "metadata": {
      "needs_background": "light"
     },
     "output_type": "display_data"
    },
    {
     "data": {
      "text/plain": "<Figure size 432x288 with 0 Axes>"
     },
     "metadata": {},
     "output_type": "display_data"
    }
   ],
   "source": [
    "import matplotlib.pyplot as plt\n",
    "\n",
    "figsize = (20, 10)\n",
    "fig, ax = plt.subplots(figsize=figsize)\n",
    "\n",
    "ax.plot(results.history['val_accuracy'], linewidth=0.4, color=\"green\")\n",
    "ax.plot(results.history['accuracy'], linewidth=0.4, color=\"red\")\n",
    "plt.figure()\n",
    "plt.show()"
   ],
   "cell_type": "code",
   "execution_count": 7
  }
 ],
 "metadata": {
  "language_info": {
   "mimetype": "text/x-python",
   "nbconvert_exporter": "python",
   "codemirror_mode": {
    "version": 3,
    "name": "ipython"
   },
   "file_extension": ".py",
   "name": "python",
   "pygments_lexer": "ipython3",
   "version": "3.6.1"
  },
  "kernelspec": {
   "display_name": "Python 3",
   "language": "python",
   "name": "python3"
  }
 },
 "nbformat": 4
}