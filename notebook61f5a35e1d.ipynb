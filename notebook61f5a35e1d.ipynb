{
 "cells": [
  {
   "metadata": {
    "_uuid": "8f2839f25d086af736a60e9eeb907d3b93b6e0e5",
    "_cell_guid": "b1076dfc-b9ad-4769-8c92-a6c4dae69d19",
    "trusted": true
   },
   "cell_type": "code",
   "source": [
    "# This Python 3 environment comes with many helpful analytics libraries installed\n",
    "# It is defined by the kaggle/python docker image: https://github.com/kaggle/docker-python\n",
    "# For example, here's several helpful packages to load in \n",
    "\n",
    "import numpy as np # linear algebra\n",
    "import pandas as pd # data processing, CSV file I/O (e.g. pd.read_csv)\n",
    "\n",
    "# Input data files are available in the \"../input/\" directory.\n",
    "# For example, running this (by clicking run or pressing Shift+Enter) will list the files in the input directory\n",
    "\n",
    "import os\n",
    "\n",
    "\n",
    "# Any results you write to the current directory are saved as output."
   ],
   "execution_count": 9,
   "outputs": []
  },
  {
   "metadata": {
    "_cell_guid": "79c7e3d0-c299-4dcb-8224-4455121ee9b0",
    "_uuid": "d629ff2d2480ee46fbb7e2d37f6b5fab8052498a",
    "trusted": true
   },
   "cell_type": "code",
   "source": [
    "import numpy as np\n",
    "import pandas as pd\n",
    "from keras.layers import Dense, Input, BatchNormalization, Dropout\n",
    "from keras.models import Sequential, Model"
   ],
   "execution_count": 10,
   "outputs": []
  },
  {
   "metadata": {
    "trusted": true,
    "_uuid": "a2152c657d76333831f4bff3495c76ee3229c467"
   },
   "cell_type": "code",
   "source": [
    "data = pd.read_csv('final_df.csv')\n",
    "data.info()"
   ],
   "execution_count": 11,
   "outputs": [
    {
     "name": "stdout",
     "output_type": "stream",
     "text": [
      "<class 'pandas.core.frame.DataFrame'>\n",
      "RangeIndex: 180136 entries, 0 to 180135\n",
      "Data columns (total 12 columns):\n",
      " #   Column             Non-Null Count   Dtype  \n",
      "---  ------             --------------   -----  \n",
      " 0   Unnamed: 0         180136 non-null  int64  \n",
      " 1   rotation_x         180136 non-null  float64\n",
      " 2   rotation_y         180136 non-null  float64\n",
      " 3   rotation_z         180136 non-null  float64\n",
      " 4   acceleration_x     180136 non-null  float64\n",
      " 5   acceleration_y     180136 non-null  float64\n",
      " 6   acceleration_z     180136 non-null  float64\n",
      " 7   motionQuaternionX  180136 non-null  float64\n",
      " 8   motionQuaternionY  180136 non-null  float64\n",
      " 9   motionQuaternionZ  180136 non-null  float64\n",
      " 10  motionQuaternionW  180136 non-null  float64\n",
      " 11  label              180136 non-null  int64  \n",
      "dtypes: float64(10), int64(2)\n",
      "memory usage: 16.5 MB\n"
     ]
    }
   ]
  },
  {
   "metadata": {
    "trusted": true,
    "_uuid": "7775ad54ceb7a09bfa988cee89798bd73f51a7f3"
   },
   "cell_type": "code",
   "source": [
    "x_train = data[['rotation_x', 'rotation_y', 'rotation_z', 'acceleration_x', 'acceleration_y', 'acceleration_z', 'motionQuaternionX',\n",
    "                                                       'motionQuaternionY', 'motionQuaternionZ', 'motionQuaternionW',]]\n",
    "y_train = data[['label']]\n",
    "x_train.info(), y_train.info()"
   ],
   "execution_count": 12,
   "outputs": [
    {
     "name": "stdout",
     "output_type": "stream",
     "text": [
      "<class 'pandas.core.frame.DataFrame'>\n",
      "RangeIndex: 180136 entries, 0 to 180135\n",
      "Data columns (total 10 columns):\n",
      " #   Column             Non-Null Count   Dtype  \n",
      "---  ------             --------------   -----  \n",
      " 0   rotation_x         180136 non-null  float64\n",
      " 1   rotation_y         180136 non-null  float64\n",
      " 2   rotation_z         180136 non-null  float64\n",
      " 3   acceleration_x     180136 non-null  float64\n",
      " 4   acceleration_y     180136 non-null  float64\n",
      " 5   acceleration_z     180136 non-null  float64\n",
      " 6   motionQuaternionX  180136 non-null  float64\n",
      " 7   motionQuaternionY  180136 non-null  float64\n",
      " 8   motionQuaternionZ  180136 non-null  float64\n",
      " 9   motionQuaternionW  180136 non-null  float64\n",
      "dtypes: float64(10)\n",
      "memory usage: 13.7 MB\n",
      "<class 'pandas.core.frame.DataFrame'>\n",
      "RangeIndex: 180136 entries, 0 to 180135\n",
      "Data columns (total 1 columns):\n",
      " #   Column  Non-Null Count   Dtype\n",
      "---  ------  --------------   -----\n",
      " 0   label   180136 non-null  int64\n",
      "dtypes: int64(1)\n",
      "memory usage: 1.4 MB\n"
     ]
    },
    {
     "data": {
      "text/plain": "(None, None)"
     },
     "execution_count": 12,
     "metadata": {},
     "output_type": "execute_result"
    }
   ]
  },
  {
   "metadata": {
    "trusted": true,
    "_uuid": "a1088181621b12ba24f67f3dc91be48417288c6b"
   },
   "cell_type": "code",
   "source": [
    "x_train = np.array(x_train)\n",
    "y_train = np.array(y_train)\n",
    "x_train.shape, y_train.shape"
   ],
   "execution_count": 13,
   "outputs": [
    {
     "data": {
      "text/plain": "((180136, 10), (180136, 1))"
     },
     "execution_count": 13,
     "metadata": {},
     "output_type": "execute_result"
    }
   ]
  },
  {
   "metadata": {
    "trusted": true,
    "_uuid": "f0cebc09006e4794bfa46db4ac90205670c39cc2"
   },
   "cell_type": "code",
   "source": [
    "model = Sequential()\n",
    "model.add(Dense(250, activation = 'relu', input_shape = (10,)))\n",
    "model.add(BatchNormalization())\n",
    "model.add(Dropout(rate = 0.25))\n",
    "model.add(Dense(1, activation = 'softmax'))\n",
    "model.summary()"
   ],
   "execution_count": 14,
   "outputs": [
    {
     "name": "stdout",
     "output_type": "stream",
     "text": [
      "Model: \"sequential_1\"\n",
      "_________________________________________________________________\n",
      "Layer (type)                 Output Shape              Param #   \n",
      "=================================================================\n",
      "dense_2 (Dense)              (None, 250)               2750      \n",
      "_________________________________________________________________\n",
      "batch_normalization_1 (Batch (None, 250)               1000      \n",
      "_________________________________________________________________\n",
      "dropout_1 (Dropout)          (None, 250)               0         \n",
      "_________________________________________________________________\n",
      "dense_3 (Dense)              (None, 1)                 251       \n",
      "=================================================================\n",
      "Total params: 4,001\n",
      "Trainable params: 3,501\n",
      "Non-trainable params: 500\n",
      "_________________________________________________________________\n"
     ]
    }
   ]
  },
  {
   "metadata": {
    "trusted": true,
    "_uuid": "6269ba2596be5fb436ef20071316cb0091ff9d7a"
   },
   "cell_type": "code",
   "source": [
    "model.compile(loss = 'categorical_crossentropy', optimizer = 'adam', metrics = ['accuracy'])"
   ],
   "execution_count": 15,
   "outputs": []
  },
  {
   "metadata": {
    "trusted": true,
    "_uuid": "83af4d0b876c1184a08264a03fc68b1cd7f93a7c"
   },
   "cell_type": "code",
   "source": [
    "model.fit(x_train, y_train, batch_size = 30, epochs = 100, validation_split = 0.2, verbose = 2)"
   ],
   "execution_count": 16,
   "outputs": [
    {
     "name": "stdout",
     "output_type": "stream",
     "text": [
      "Epoch 1/100\n",
      "4804/4804 - 10s - loss: 0.0000e+00 - accuracy: 0.3140 - val_loss: 0.0000e+00 - val_accuracy: 0.2161\n",
      "Epoch 2/100\n",
      "4804/4804 - 5s - loss: 0.0000e+00 - accuracy: 0.3140 - val_loss: 0.0000e+00 - val_accuracy: 0.2161\n",
      "Epoch 3/100\n",
      "4804/4804 - 4s - loss: 0.0000e+00 - accuracy: 0.3140 - val_loss: 0.0000e+00 - val_accuracy: 0.2161\n",
      "Epoch 4/100\n",
      "4804/4804 - 5s - loss: 0.0000e+00 - accuracy: 0.3140 - val_loss: 0.0000e+00 - val_accuracy: 0.2161\n",
      "Epoch 5/100\n",
      "4804/4804 - 4s - loss: 0.0000e+00 - accuracy: 0.3140 - val_loss: 0.0000e+00 - val_accuracy: 0.2161\n",
      "Epoch 6/100\n",
      "4804/4804 - 4s - loss: 0.0000e+00 - accuracy: 0.3140 - val_loss: 0.0000e+00 - val_accuracy: 0.2161\n",
      "Epoch 7/100\n",
      "4804/4804 - 4s - loss: 0.0000e+00 - accuracy: 0.3140 - val_loss: 0.0000e+00 - val_accuracy: 0.2161\n",
      "Epoch 8/100\n",
      "4804/4804 - 5s - loss: 0.0000e+00 - accuracy: 0.3140 - val_loss: 0.0000e+00 - val_accuracy: 0.2161\n",
      "Epoch 9/100\n",
      "4804/4804 - 5s - loss: 0.0000e+00 - accuracy: 0.3140 - val_loss: 0.0000e+00 - val_accuracy: 0.2161\n",
      "Epoch 10/100\n",
      "4804/4804 - 4s - loss: 0.0000e+00 - accuracy: 0.3140 - val_loss: 0.0000e+00 - val_accuracy: 0.2161\n",
      "Epoch 11/100\n",
      "4804/4804 - 4s - loss: 0.0000e+00 - accuracy: 0.3140 - val_loss: 0.0000e+00 - val_accuracy: 0.2161\n",
      "Epoch 12/100\n",
      "4804/4804 - 4s - loss: 0.0000e+00 - accuracy: 0.3140 - val_loss: 0.0000e+00 - val_accuracy: 0.2161\n",
      "Epoch 13/100\n",
      "4804/4804 - 4s - loss: 0.0000e+00 - accuracy: 0.3140 - val_loss: 0.0000e+00 - val_accuracy: 0.2161\n",
      "Epoch 14/100\n",
      "4804/4804 - 4s - loss: 0.0000e+00 - accuracy: 0.3140 - val_loss: 0.0000e+00 - val_accuracy: 0.2161\n",
      "Epoch 15/100\n",
      "4804/4804 - 4s - loss: 0.0000e+00 - accuracy: 0.3140 - val_loss: 0.0000e+00 - val_accuracy: 0.2161\n",
      "Epoch 16/100\n",
      "4804/4804 - 4s - loss: 0.0000e+00 - accuracy: 0.3140 - val_loss: 0.0000e+00 - val_accuracy: 0.2161\n",
      "Epoch 17/100\n",
      "4804/4804 - 4s - loss: 0.0000e+00 - accuracy: 0.3140 - val_loss: 0.0000e+00 - val_accuracy: 0.2161\n",
      "Epoch 18/100\n",
      "4804/4804 - 4s - loss: 0.0000e+00 - accuracy: 0.3140 - val_loss: 0.0000e+00 - val_accuracy: 0.2161\n",
      "Epoch 19/100\n",
      "4804/4804 - 4s - loss: 0.0000e+00 - accuracy: 0.3140 - val_loss: 0.0000e+00 - val_accuracy: 0.2161\n",
      "Epoch 20/100\n",
      "4804/4804 - 4s - loss: 0.0000e+00 - accuracy: 0.3140 - val_loss: 0.0000e+00 - val_accuracy: 0.2161\n",
      "Epoch 21/100\n",
      "4804/4804 - 4s - loss: 0.0000e+00 - accuracy: 0.3140 - val_loss: 0.0000e+00 - val_accuracy: 0.2161\n",
      "Epoch 22/100\n",
      "4804/4804 - 4s - loss: 0.0000e+00 - accuracy: 0.3140 - val_loss: 0.0000e+00 - val_accuracy: 0.2161\n",
      "Epoch 23/100\n",
      "4804/4804 - 5s - loss: 0.0000e+00 - accuracy: 0.3140 - val_loss: 0.0000e+00 - val_accuracy: 0.2161\n",
      "Epoch 24/100\n",
      "4804/4804 - 6s - loss: 0.0000e+00 - accuracy: 0.3140 - val_loss: 0.0000e+00 - val_accuracy: 0.2161\n",
      "Epoch 25/100\n",
      "4804/4804 - 5s - loss: 0.0000e+00 - accuracy: 0.3140 - val_loss: 0.0000e+00 - val_accuracy: 0.2161\n",
      "Epoch 26/100\n",
      "4804/4804 - 6s - loss: 0.0000e+00 - accuracy: 0.3140 - val_loss: 0.0000e+00 - val_accuracy: 0.2161\n",
      "Epoch 27/100\n",
      "4804/4804 - 6s - loss: 0.0000e+00 - accuracy: 0.3140 - val_loss: 0.0000e+00 - val_accuracy: 0.2161\n",
      "Epoch 28/100\n",
      "4804/4804 - 6s - loss: 0.0000e+00 - accuracy: 0.3140 - val_loss: 0.0000e+00 - val_accuracy: 0.2161\n",
      "Epoch 29/100\n",
      "4804/4804 - 5s - loss: 0.0000e+00 - accuracy: 0.3140 - val_loss: 0.0000e+00 - val_accuracy: 0.2161\n",
      "Epoch 30/100\n",
      "4804/4804 - 5s - loss: 0.0000e+00 - accuracy: 0.3140 - val_loss: 0.0000e+00 - val_accuracy: 0.2161\n",
      "Epoch 31/100\n",
      "4804/4804 - 5s - loss: 0.0000e+00 - accuracy: 0.3140 - val_loss: 0.0000e+00 - val_accuracy: 0.2161\n",
      "Epoch 32/100\n",
      "4804/4804 - 5s - loss: 0.0000e+00 - accuracy: 0.3140 - val_loss: 0.0000e+00 - val_accuracy: 0.2161\n",
      "Epoch 33/100\n",
      "4804/4804 - 5s - loss: 0.0000e+00 - accuracy: 0.3140 - val_loss: 0.0000e+00 - val_accuracy: 0.2161\n",
      "Epoch 34/100\n",
      "4804/4804 - 6s - loss: 0.0000e+00 - accuracy: 0.3140 - val_loss: 0.0000e+00 - val_accuracy: 0.2161\n",
      "Epoch 35/100\n",
      "4804/4804 - 7s - loss: 0.0000e+00 - accuracy: 0.3140 - val_loss: 0.0000e+00 - val_accuracy: 0.2161\n",
      "Epoch 36/100\n",
      "4804/4804 - 6s - loss: 0.0000e+00 - accuracy: 0.3140 - val_loss: 0.0000e+00 - val_accuracy: 0.2161\n",
      "Epoch 37/100\n",
      "4804/4804 - 7s - loss: 0.0000e+00 - accuracy: 0.3140 - val_loss: 0.0000e+00 - val_accuracy: 0.2161\n",
      "Epoch 38/100\n",
      "4804/4804 - 5s - loss: 0.0000e+00 - accuracy: 0.3140 - val_loss: 0.0000e+00 - val_accuracy: 0.2161\n",
      "Epoch 39/100\n",
      "4804/4804 - 5s - loss: 0.0000e+00 - accuracy: 0.3140 - val_loss: 0.0000e+00 - val_accuracy: 0.2161\n",
      "Epoch 40/100\n",
      "4804/4804 - 4s - loss: 0.0000e+00 - accuracy: 0.3140 - val_loss: 0.0000e+00 - val_accuracy: 0.2161\n",
      "Epoch 41/100\n",
      "4804/4804 - 4s - loss: 0.0000e+00 - accuracy: 0.3140 - val_loss: 0.0000e+00 - val_accuracy: 0.2161\n",
      "Epoch 42/100\n",
      "4804/4804 - 4s - loss: 0.0000e+00 - accuracy: 0.3140 - val_loss: 0.0000e+00 - val_accuracy: 0.2161\n",
      "Epoch 43/100\n",
      "4804/4804 - 4s - loss: 0.0000e+00 - accuracy: 0.3140 - val_loss: 0.0000e+00 - val_accuracy: 0.2161\n",
      "Epoch 44/100\n",
      "4804/4804 - 4s - loss: 0.0000e+00 - accuracy: 0.3140 - val_loss: 0.0000e+00 - val_accuracy: 0.2161\n",
      "Epoch 45/100\n",
      "4804/4804 - 4s - loss: 0.0000e+00 - accuracy: 0.3140 - val_loss: 0.0000e+00 - val_accuracy: 0.2161\n",
      "Epoch 46/100\n",
      "4804/4804 - 4s - loss: 0.0000e+00 - accuracy: 0.3140 - val_loss: 0.0000e+00 - val_accuracy: 0.2161\n",
      "Epoch 47/100\n",
      "4804/4804 - 4s - loss: 0.0000e+00 - accuracy: 0.3140 - val_loss: 0.0000e+00 - val_accuracy: 0.2161\n",
      "Epoch 48/100\n",
      "4804/4804 - 4s - loss: 0.0000e+00 - accuracy: 0.3140 - val_loss: 0.0000e+00 - val_accuracy: 0.2161\n",
      "Epoch 49/100\n",
      "4804/4804 - 4s - loss: 0.0000e+00 - accuracy: 0.3140 - val_loss: 0.0000e+00 - val_accuracy: 0.2161\n",
      "Epoch 50/100\n",
      "4804/4804 - 4s - loss: 0.0000e+00 - accuracy: 0.3140 - val_loss: 0.0000e+00 - val_accuracy: 0.2161\n",
      "Epoch 51/100\n",
      "4804/4804 - 4s - loss: 0.0000e+00 - accuracy: 0.3140 - val_loss: 0.0000e+00 - val_accuracy: 0.2161\n",
      "Epoch 52/100\n",
      "4804/4804 - 4s - loss: 0.0000e+00 - accuracy: 0.3140 - val_loss: 0.0000e+00 - val_accuracy: 0.2161\n",
      "Epoch 53/100\n",
      "4804/4804 - 4s - loss: 0.0000e+00 - accuracy: 0.3140 - val_loss: 0.0000e+00 - val_accuracy: 0.2161\n",
      "Epoch 54/100\n",
      "4804/4804 - 4s - loss: 0.0000e+00 - accuracy: 0.3140 - val_loss: 0.0000e+00 - val_accuracy: 0.2161\n",
      "Epoch 55/100\n",
      "4804/4804 - 4s - loss: 0.0000e+00 - accuracy: 0.3140 - val_loss: 0.0000e+00 - val_accuracy: 0.2161\n",
      "Epoch 56/100\n",
      "4804/4804 - 4s - loss: 0.0000e+00 - accuracy: 0.3140 - val_loss: 0.0000e+00 - val_accuracy: 0.2161\n",
      "Epoch 57/100\n",
      "4804/4804 - 4s - loss: 0.0000e+00 - accuracy: 0.3140 - val_loss: 0.0000e+00 - val_accuracy: 0.2161\n",
      "Epoch 58/100\n",
      "4804/4804 - 4s - loss: 0.0000e+00 - accuracy: 0.3140 - val_loss: 0.0000e+00 - val_accuracy: 0.2161\n",
      "Epoch 59/100\n",
      "4804/4804 - 4s - loss: 0.0000e+00 - accuracy: 0.3140 - val_loss: 0.0000e+00 - val_accuracy: 0.2161\n",
      "Epoch 60/100\n",
      "4804/4804 - 4s - loss: 0.0000e+00 - accuracy: 0.3140 - val_loss: 0.0000e+00 - val_accuracy: 0.2161\n",
      "Epoch 61/100\n",
      "4804/4804 - 4s - loss: 0.0000e+00 - accuracy: 0.3140 - val_loss: 0.0000e+00 - val_accuracy: 0.2161\n",
      "Epoch 62/100\n",
      "4804/4804 - 4s - loss: 0.0000e+00 - accuracy: 0.3140 - val_loss: 0.0000e+00 - val_accuracy: 0.2161\n",
      "Epoch 63/100\n",
      "4804/4804 - 4s - loss: 0.0000e+00 - accuracy: 0.3140 - val_loss: 0.0000e+00 - val_accuracy: 0.2161\n",
      "Epoch 64/100\n",
      "4804/4804 - 4s - loss: 0.0000e+00 - accuracy: 0.3140 - val_loss: 0.0000e+00 - val_accuracy: 0.2161\n",
      "Epoch 65/100\n",
      "4804/4804 - 4s - loss: 0.0000e+00 - accuracy: 0.3140 - val_loss: 0.0000e+00 - val_accuracy: 0.2161\n",
      "Epoch 66/100\n",
      "4804/4804 - 4s - loss: 0.0000e+00 - accuracy: 0.3140 - val_loss: 0.0000e+00 - val_accuracy: 0.2161\n",
      "Epoch 67/100\n",
      "4804/4804 - 4s - loss: 0.0000e+00 - accuracy: 0.3140 - val_loss: 0.0000e+00 - val_accuracy: 0.2161\n",
      "Epoch 68/100\n",
      "4804/4804 - 4s - loss: 0.0000e+00 - accuracy: 0.3140 - val_loss: 0.0000e+00 - val_accuracy: 0.2161\n",
      "Epoch 69/100\n",
      "4804/4804 - 4s - loss: 0.0000e+00 - accuracy: 0.3140 - val_loss: 0.0000e+00 - val_accuracy: 0.2161\n",
      "Epoch 70/100\n",
      "4804/4804 - 4s - loss: 0.0000e+00 - accuracy: 0.3140 - val_loss: 0.0000e+00 - val_accuracy: 0.2161\n",
      "Epoch 71/100\n",
      "4804/4804 - 4s - loss: 0.0000e+00 - accuracy: 0.3140 - val_loss: 0.0000e+00 - val_accuracy: 0.2161\n",
      "Epoch 72/100\n",
      "4804/4804 - 4s - loss: 0.0000e+00 - accuracy: 0.3140 - val_loss: 0.0000e+00 - val_accuracy: 0.2161\n",
      "Epoch 73/100\n",
      "4804/4804 - 4s - loss: 0.0000e+00 - accuracy: 0.3140 - val_loss: 0.0000e+00 - val_accuracy: 0.2161\n",
      "Epoch 74/100\n",
      "4804/4804 - 4s - loss: 0.0000e+00 - accuracy: 0.3140 - val_loss: 0.0000e+00 - val_accuracy: 0.2161\n",
      "Epoch 75/100\n",
      "4804/4804 - 4s - loss: 0.0000e+00 - accuracy: 0.3140 - val_loss: 0.0000e+00 - val_accuracy: 0.2161\n",
      "Epoch 76/100\n",
      "4804/4804 - 4s - loss: 0.0000e+00 - accuracy: 0.3140 - val_loss: 0.0000e+00 - val_accuracy: 0.2161\n",
      "Epoch 77/100\n",
      "4804/4804 - 4s - loss: 0.0000e+00 - accuracy: 0.3140 - val_loss: 0.0000e+00 - val_accuracy: 0.2161\n",
      "Epoch 78/100\n",
      "4804/4804 - 4s - loss: 0.0000e+00 - accuracy: 0.3140 - val_loss: 0.0000e+00 - val_accuracy: 0.2161\n",
      "Epoch 79/100\n",
      "4804/4804 - 4s - loss: 0.0000e+00 - accuracy: 0.3140 - val_loss: 0.0000e+00 - val_accuracy: 0.2161\n",
      "Epoch 80/100\n",
      "4804/4804 - 4s - loss: 0.0000e+00 - accuracy: 0.3140 - val_loss: 0.0000e+00 - val_accuracy: 0.2161\n",
      "Epoch 81/100\n",
      "4804/4804 - 4s - loss: 0.0000e+00 - accuracy: 0.3140 - val_loss: 0.0000e+00 - val_accuracy: 0.2161\n",
      "Epoch 82/100\n",
      "4804/4804 - 4s - loss: 0.0000e+00 - accuracy: 0.3140 - val_loss: 0.0000e+00 - val_accuracy: 0.2161\n",
      "Epoch 83/100\n",
      "4804/4804 - 4s - loss: 0.0000e+00 - accuracy: 0.3140 - val_loss: 0.0000e+00 - val_accuracy: 0.2161\n",
      "Epoch 84/100\n",
      "4804/4804 - 4s - loss: 0.0000e+00 - accuracy: 0.3140 - val_loss: 0.0000e+00 - val_accuracy: 0.2161\n",
      "Epoch 85/100\n",
      "4804/4804 - 4s - loss: 0.0000e+00 - accuracy: 0.3140 - val_loss: 0.0000e+00 - val_accuracy: 0.2161\n",
      "Epoch 86/100\n",
      "4804/4804 - 4s - loss: 0.0000e+00 - accuracy: 0.3140 - val_loss: 0.0000e+00 - val_accuracy: 0.2161\n",
      "Epoch 87/100\n",
      "4804/4804 - 4s - loss: 0.0000e+00 - accuracy: 0.3140 - val_loss: 0.0000e+00 - val_accuracy: 0.2161\n",
      "Epoch 88/100\n",
      "4804/4804 - 4s - loss: 0.0000e+00 - accuracy: 0.3140 - val_loss: 0.0000e+00 - val_accuracy: 0.2161\n",
      "Epoch 89/100\n",
      "4804/4804 - 4s - loss: 0.0000e+00 - accuracy: 0.3140 - val_loss: 0.0000e+00 - val_accuracy: 0.2161\n",
      "Epoch 90/100\n",
      "4804/4804 - 4s - loss: 0.0000e+00 - accuracy: 0.3140 - val_loss: 0.0000e+00 - val_accuracy: 0.2161\n",
      "Epoch 91/100\n",
      "4804/4804 - 4s - loss: 0.0000e+00 - accuracy: 0.3140 - val_loss: 0.0000e+00 - val_accuracy: 0.2161\n",
      "Epoch 92/100\n",
      "4804/4804 - 4s - loss: 0.0000e+00 - accuracy: 0.3140 - val_loss: 0.0000e+00 - val_accuracy: 0.2161\n",
      "Epoch 93/100\n",
      "4804/4804 - 4s - loss: 0.0000e+00 - accuracy: 0.3140 - val_loss: 0.0000e+00 - val_accuracy: 0.2161\n",
      "Epoch 94/100\n",
      "4804/4804 - 4s - loss: 0.0000e+00 - accuracy: 0.3140 - val_loss: 0.0000e+00 - val_accuracy: 0.2161\n",
      "Epoch 95/100\n",
      "4804/4804 - 4s - loss: 0.0000e+00 - accuracy: 0.3140 - val_loss: 0.0000e+00 - val_accuracy: 0.2161\n",
      "Epoch 96/100\n",
      "4804/4804 - 4s - loss: 0.0000e+00 - accuracy: 0.3140 - val_loss: 0.0000e+00 - val_accuracy: 0.2161\n",
      "Epoch 97/100\n",
      "4804/4804 - 4s - loss: 0.0000e+00 - accuracy: 0.3140 - val_loss: 0.0000e+00 - val_accuracy: 0.2161\n",
      "Epoch 98/100\n",
      "4804/4804 - 4s - loss: 0.0000e+00 - accuracy: 0.3140 - val_loss: 0.0000e+00 - val_accuracy: 0.2161\n",
      "Epoch 99/100\n",
      "4804/4804 - 4s - loss: 0.0000e+00 - accuracy: 0.3140 - val_loss: 0.0000e+00 - val_accuracy: 0.2161\n",
      "Epoch 100/100\n",
      "4804/4804 - 4s - loss: 0.0000e+00 - accuracy: 0.3140 - val_loss: 0.0000e+00 - val_accuracy: 0.2161\n"
     ]
    },
    {
     "data": {
      "text/plain": "<keras.callbacks.History at 0x7fab2b2a2f40>"
     },
     "execution_count": 16,
     "metadata": {},
     "output_type": "execute_result"
    }
   ]
  },
  {
   "metadata": {
    "trusted": true,
    "_uuid": "d40b261d2065bc0d2a90abf23c827730df262f66"
   },
   "cell_type": "code",
   "source": "",
   "execution_count": 16,
   "outputs": []
  }
 ],
 "metadata": {
  "kernelspec": {
   "display_name": "Python 3",
   "language": "python",
   "name": "python3"
  },
  "language_info": {
   "name": "python",
   "version": "3.6.6",
   "mimetype": "text/x-python",
   "codemirror_mode": {
    "name": "ipython",
    "version": 3
   },
   "pygments_lexer": "ipython3",
   "nbconvert_exporter": "python",
   "file_extension": ".py"
  }
 },
 "nbformat": 4,
 "nbformat_minor": 1
}